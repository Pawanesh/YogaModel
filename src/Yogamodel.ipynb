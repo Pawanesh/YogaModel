{
 "cells": [
  {
   "cell_type": "code",
   "execution_count": 48,
   "id": "768c1b81-134b-4c88-9080-d29e9918f8e7",
   "metadata": {},
   "outputs": [],
   "source": [
    "import tensorflow as tf\n",
    "import os\n",
    "import numpy as np\n"
   ]
  },
  {
   "cell_type": "code",
   "execution_count": 49,
   "id": "f4fc3969-01ab-4e8e-9137-74759db839d6",
   "metadata": {},
   "outputs": [],
   "source": [
    "home = os.environ['HOME']\n",
    "base_dir = os.path.join(home, 'YogaModel/dataset')\n",
    "train_dir = os.path.join(base_dir, 'training')\n",
    "test_dir = os.path.join(base_dir, 'testing')"
   ]
  },
  {
   "cell_type": "code",
   "execution_count": 50,
   "id": "88d1217a-6384-4e32-bb20-74a7131baa66",
   "metadata": {},
   "outputs": [
    {
     "name": "stdout",
     "output_type": "stream",
     "text": [
      "Found 4750 images belonging to 107 classes.\n",
      "Found 1241 images belonging to 107 classes.\n"
     ]
    }
   ],
   "source": [
    "from  tensorflow.keras.preprocessing.image import ImageDataGenerator\n",
    "train_data_gen = ImageDataGenerator(\n",
    "    rescale = 1.0/255,\n",
    "    rotation_range = 40,\n",
    "    width_shift_range = 0.2,\n",
    "    height_shift_range = 0.2,\n",
    "    shear_range = 0.2,\n",
    "    horizontal_flip = True,\n",
    "    fill_mode = 'nearest'\n",
    ")\n",
    "train_data = train_data_gen.flow_from_directory(\n",
    "    train_dir,\n",
    "    target_size=(150,150),\n",
    "    class_mode='categorical',\n",
    "    batch_size=20\n",
    ")\n",
    "\n",
    "\n",
    "test_data_gen = ImageDataGenerator(\n",
    "    rescale = 1.0/255\n",
    ")\n",
    "\n",
    "test_data = test_data_gen.flow_from_directory(\n",
    "    test_dir,\n",
    "    target_size=(150,150),\n",
    "    class_mode='categorical',\n",
    "    batch_size=5\n",
    ")"
   ]
  },
  {
   "cell_type": "code",
   "execution_count": 51,
   "id": "a373612d-34ad-4602-9433-398dd7c342e8",
   "metadata": {},
   "outputs": [],
   "source": [
    "model = tf.keras.models.Sequential([\n",
    "    # Note the input shape is the desired size of the image 150x150 with 3 bytes color\n",
    "    # This is the first convolution\n",
    "    tf.keras.layers.Conv2D(64, (3,3), activation='relu', input_shape=(150, 150, 3)),\n",
    "    tf.keras.layers.MaxPooling2D(2, 2),\n",
    "    # The second convolution\n",
    "    tf.keras.layers.Conv2D(64, (3,3), activation='relu'),\n",
    "    tf.keras.layers.MaxPooling2D(2,2),\n",
    "    # The third convolution\n",
    "    tf.keras.layers.Conv2D(128, (3,3), activation='relu'),\n",
    "    tf.keras.layers.MaxPooling2D(2,2),\n",
    "    # The fourth convolution\n",
    "    tf.keras.layers.Conv2D(128, (3,3), activation='relu'),\n",
    "    tf.keras.layers.MaxPooling2D(2,2),\n",
    "    # Flatten the results to feed into a DNN\n",
    "    tf.keras.layers.Flatten(),\n",
    "    tf.keras.layers.Dropout(0.5),\n",
    "    # 512 neuron hidden layer\n",
    "    tf.keras.layers.Dense(512, activation='relu'),\n",
    "    tf.keras.layers.Dense(107, activation='softmax')\n",
    "])"
   ]
  },
  {
   "cell_type": "code",
   "execution_count": 52,
   "id": "8d8174b0-fa2d-4202-bb89-dc14cee464ad",
   "metadata": {},
   "outputs": [
    {
     "name": "stdout",
     "output_type": "stream",
     "text": [
      "Model: \"sequential_4\"\n",
      "_________________________________________________________________\n",
      "Layer (type)                 Output Shape              Param #   \n",
      "=================================================================\n",
      "conv2d_16 (Conv2D)           (None, 148, 148, 64)      1792      \n",
      "_________________________________________________________________\n",
      "max_pooling2d_16 (MaxPooling (None, 74, 74, 64)        0         \n",
      "_________________________________________________________________\n",
      "conv2d_17 (Conv2D)           (None, 72, 72, 64)        36928     \n",
      "_________________________________________________________________\n",
      "max_pooling2d_17 (MaxPooling (None, 36, 36, 64)        0         \n",
      "_________________________________________________________________\n",
      "conv2d_18 (Conv2D)           (None, 34, 34, 128)       73856     \n",
      "_________________________________________________________________\n",
      "max_pooling2d_18 (MaxPooling (None, 17, 17, 128)       0         \n",
      "_________________________________________________________________\n",
      "conv2d_19 (Conv2D)           (None, 15, 15, 128)       147584    \n",
      "_________________________________________________________________\n",
      "max_pooling2d_19 (MaxPooling (None, 7, 7, 128)         0         \n",
      "_________________________________________________________________\n",
      "flatten_4 (Flatten)          (None, 6272)              0         \n",
      "_________________________________________________________________\n",
      "dropout_4 (Dropout)          (None, 6272)              0         \n",
      "_________________________________________________________________\n",
      "dense_8 (Dense)              (None, 512)               3211776   \n",
      "_________________________________________________________________\n",
      "dense_9 (Dense)              (None, 107)               54891     \n",
      "=================================================================\n",
      "Total params: 3,526,827\n",
      "Trainable params: 3,526,827\n",
      "Non-trainable params: 0\n",
      "_________________________________________________________________\n"
     ]
    }
   ],
   "source": [
    "model.summary()"
   ]
  },
  {
   "cell_type": "code",
   "execution_count": 53,
   "id": "c59e7d58-8e57-4e45-9016-b27e9ef63d06",
   "metadata": {},
   "outputs": [],
   "source": [
    "model.compile(loss = 'categorical_crossentropy', optimizer='rmsprop', metrics=['accuracy'])"
   ]
  },
  {
   "cell_type": "code",
   "execution_count": null,
   "id": "b6a4fbfe-0229-4a95-bb61-3511d899477e",
   "metadata": {},
   "outputs": [
    {
     "name": "stdout",
     "output_type": "stream",
     "text": [
      "Epoch 1/100\n",
      "238/238 [==============================] - 209s 876ms/step - loss: 4.7128 - accuracy: 0.0099 - val_loss: 4.6526 - val_accuracy: 0.0145\n",
      "Epoch 2/100\n",
      "238/238 [==============================] - 208s 872ms/step - loss: 4.6510 - accuracy: 0.0173 - val_loss: 4.5566 - val_accuracy: 0.0379\n",
      "Epoch 3/100\n",
      "238/238 [==============================] - 209s 877ms/step - loss: 4.5575 - accuracy: 0.0267 - val_loss: 4.3461 - val_accuracy: 0.0572\n",
      "Epoch 4/100\n",
      "238/238 [==============================] - 207s 868ms/step - loss: 4.4311 - accuracy: 0.0408 - val_loss: 4.0642 - val_accuracy: 0.0814\n",
      "Epoch 5/100\n",
      "238/238 [==============================] - 208s 874ms/step - loss: 4.2626 - accuracy: 0.0568 - val_loss: 4.1494 - val_accuracy: 0.0693\n",
      "Epoch 6/100\n",
      "238/238 [==============================] - 207s 871ms/step - loss: 3.9275 - accuracy: 0.0960 - val_loss: 3.3505 - val_accuracy: 0.1982\n",
      "Epoch 9/100\n",
      "238/238 [==============================] - 208s 872ms/step - loss: 3.8859 - accuracy: 0.1078 - val_loss: 3.2393 - val_accuracy: 0.2256\n",
      "Epoch 10/100\n",
      "238/238 [==============================] - 207s 871ms/step - loss: 3.8150 - accuracy: 0.1118 - val_loss: 3.1110 - val_accuracy: 0.2377\n",
      "Epoch 11/100\n",
      "238/238 [==============================] - 208s 872ms/step - loss: 3.7090 - accuracy: 0.1234 - val_loss: 3.0281 - val_accuracy: 0.2393\n",
      "Epoch 12/100\n",
      "238/238 [==============================] - 208s 872ms/step - loss: 3.6544 - accuracy: 0.1385 - val_loss: 3.1167 - val_accuracy: 0.2450\n",
      "Epoch 13/100\n",
      "238/238 [==============================] - 208s 872ms/step - loss: 3.6225 - accuracy: 0.1432 - val_loss: 2.8951 - val_accuracy: 0.2571\n",
      "Epoch 14/100\n",
      "238/238 [==============================] - 208s 873ms/step - loss: 3.5580 - accuracy: 0.1516 - val_loss: 3.2738 - val_accuracy: 0.2176\n",
      "Epoch 15/100\n",
      "238/238 [==============================] - 208s 873ms/step - loss: 3.5062 - accuracy: 0.1592 - val_loss: 2.8570 - val_accuracy: 0.2957\n",
      "Epoch 16/100\n",
      "238/238 [==============================] - 207s 869ms/step - loss: 3.4686 - accuracy: 0.1720 - val_loss: 2.8386 - val_accuracy: 0.2707\n",
      "Epoch 17/100\n",
      "238/238 [==============================] - 208s 873ms/step - loss: 3.4547 - accuracy: 0.1712 - val_loss: 2.8406 - val_accuracy: 0.3022\n",
      "Epoch 18/100\n",
      "238/238 [==============================] - 207s 870ms/step - loss: 3.4393 - accuracy: 0.1754 - val_loss: 2.8769 - val_accuracy: 0.2917\n",
      "Epoch 19/100\n",
      "238/238 [==============================] - 207s 868ms/step - loss: 3.4020 - accuracy: 0.1731 - val_loss: 2.6908 - val_accuracy: 0.3135\n",
      "Epoch 20/100\n",
      "238/238 [==============================] - 206s 867ms/step - loss: 3.3731 - accuracy: 0.1863 - val_loss: 2.8098 - val_accuracy: 0.3159\n",
      "Epoch 21/100\n",
      "238/238 [==============================] - 206s 865ms/step - loss: 3.3330 - accuracy: 0.1945 - val_loss: 2.6532 - val_accuracy: 0.3392\n",
      "Epoch 22/100\n",
      "238/238 [==============================] - 207s 870ms/step - loss: 3.3152 - accuracy: 0.2013 - val_loss: 2.8590 - val_accuracy: 0.2691\n",
      "Epoch 23/100\n",
      "238/238 [==============================] - 208s 872ms/step - loss: 3.2635 - accuracy: 0.2034 - val_loss: 2.7324 - val_accuracy: 0.3151\n",
      "Epoch 24/100\n",
      "238/238 [==============================] - 207s 868ms/step - loss: 3.2687 - accuracy: 0.2032 - val_loss: 2.5965 - val_accuracy: 0.3465\n",
      "Epoch 25/100\n",
      "238/238 [==============================] - 206s 867ms/step - loss: 3.2377 - accuracy: 0.2101 - val_loss: 2.7244 - val_accuracy: 0.3127\n",
      "Epoch 26/100\n",
      "238/238 [==============================] - 207s 869ms/step - loss: 3.2445 - accuracy: 0.2025 - val_loss: 2.7321 - val_accuracy: 0.3167\n",
      "Epoch 27/100\n",
      "238/238 [==============================] - 208s 872ms/step - loss: 3.2230 - accuracy: 0.2168 - val_loss: 2.6837 - val_accuracy: 0.3127\n",
      "Epoch 28/100\n",
      "238/238 [==============================] - 208s 874ms/step - loss: 3.2052 - accuracy: 0.2093 - val_loss: 2.8917 - val_accuracy: 0.2933\n",
      "Epoch 29/100\n",
      "238/238 [==============================] - 208s 872ms/step - loss: 3.1707 - accuracy: 0.2274 - val_loss: 2.6560 - val_accuracy: 0.3304\n",
      "Epoch 30/100\n",
      " 91/238 [==========>...................] - ETA: 1:56 - loss: 3.1473 - accuracy: 0.2280"
     ]
    }
   ],
   "source": [
    "history = model.fit(train_data, epochs=100, validation_data = test_data, verbose = 1)\n",
    "model.save(\"YogaModel.h5\")"
   ]
  },
  {
   "cell_type": "code",
   "execution_count": null,
   "id": "589da047-34f5-43a4-8b39-b2f347dd4f1d",
   "metadata": {},
   "outputs": [],
   "source": [
    "!ls -ltr"
   ]
  },
  {
   "cell_type": "code",
   "execution_count": null,
   "id": "cc7e39b4-ed4c-4250-854c-14ffce44b355",
   "metadata": {},
   "outputs": [],
   "source": []
  }
 ],
 "metadata": {
  "environment": {
   "name": "tf2-gpu.2-6.m81",
   "type": "gcloud",
   "uri": "gcr.io/deeplearning-platform-release/tf2-gpu.2-6:m81"
  },
  "kernelspec": {
   "display_name": "Python 3",
   "language": "python",
   "name": "python3"
  },
  "language_info": {
   "codemirror_mode": {
    "name": "ipython",
    "version": 3
   },
   "file_extension": ".py",
   "mimetype": "text/x-python",
   "name": "python",
   "nbconvert_exporter": "python",
   "pygments_lexer": "ipython3",
   "version": "3.7.10"
  }
 },
 "nbformat": 4,
 "nbformat_minor": 5
}
