{
 "cells": [
  {
   "cell_type": "code",
   "execution_count": 2,
   "id": "768c1b81-134b-4c88-9080-d29e9918f8e7",
   "metadata": {},
   "outputs": [],
   "source": [
    "import tensorflow as tf\n",
    "import os\n",
    "import numpy as np\n"
   ]
  },
  {
   "cell_type": "code",
   "execution_count": 6,
   "id": "f4fc3969-01ab-4e8e-9137-74759db839d6",
   "metadata": {},
   "outputs": [],
   "source": [
    "home = os.environ['HOME']\n",
    "base_dir = os.path.join(home, 'YogaModel/dataset')\n",
    "train_dir = os.path.join(base_dir, 'train')\n",
    "#test_dir = os.path.join(base_dir, 'test')"
   ]
  },
  {
   "cell_type": "code",
   "execution_count": 12,
   "id": "88d1217a-6384-4e32-bb20-74a7131baa66",
   "metadata": {},
   "outputs": [
    {
     "name": "stdout",
     "output_type": "stream",
     "text": [
      "Found 5991 images belonging to 107 classes.\n"
     ]
    }
   ],
   "source": [
    "from  tensorflow.keras.preprocessing.image import ImageDataGenerator\n",
    "train_data_gen = ImageDataGenerator(\n",
    "    rescale = 1.0/255,\n",
    "    rotation_range = 40,\n",
    "    width_shift_range = 0.2,\n",
    "    height_shift_range = 0.2,\n",
    "    shear_range = 0.2,\n",
    "    horizontal_flip = True,\n",
    "    fill_mode = 'nearest'\n",
    ")\n",
    "train_data = train_data_gen.flow_from_directory(\n",
    "    train_dir,\n",
    "    target_size=(150,150),\n",
    "    class_mode='categorical',\n",
    "    batch_size=20\n",
    ")"
   ]
  },
  {
   "cell_type": "code",
   "execution_count": null,
   "id": "a373612d-34ad-4602-9433-398dd7c342e8",
   "metadata": {},
   "outputs": [],
   "source": []
  }
 ],
 "metadata": {
  "environment": {
   "name": "tf2-gpu.2-6.m81",
   "type": "gcloud",
   "uri": "gcr.io/deeplearning-platform-release/tf2-gpu.2-6:m81"
  },
  "kernelspec": {
   "display_name": "Python 3",
   "language": "python",
   "name": "python3"
  },
  "language_info": {
   "codemirror_mode": {
    "name": "ipython",
    "version": 3
   },
   "file_extension": ".py",
   "mimetype": "text/x-python",
   "name": "python",
   "nbconvert_exporter": "python",
   "pygments_lexer": "ipython3",
   "version": "3.7.10"
  }
 },
 "nbformat": 4,
 "nbformat_minor": 5
}
