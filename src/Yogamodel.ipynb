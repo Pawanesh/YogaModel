{
 "cells": [
  {
   "cell_type": "code",
   "execution_count": 2,
   "id": "768c1b81-134b-4c88-9080-d29e9918f8e7",
   "metadata": {},
   "outputs": [],
   "source": [
    "import tensorflow as tf\n",
    "import os\n",
    "import numpy as np\n"
   ]
  },
  {
   "cell_type": "code",
   "execution_count": 3,
   "id": "f4fc3969-01ab-4e8e-9137-74759db839d6",
   "metadata": {},
   "outputs": [],
   "source": [
    "home = os.environ['HOME']\n",
    "base_dir = os.path.join(home, 'YogaModel/dataset')\n",
    "train_dir = os.path.join(base_dir, 'training')\n",
    "test_dir = os.path.join(base_dir, 'testing')"
   ]
  },
  {
   "cell_type": "code",
   "execution_count": 4,
   "id": "88d1217a-6384-4e32-bb20-74a7131baa66",
   "metadata": {},
   "outputs": [
    {
     "name": "stdout",
     "output_type": "stream",
     "text": [
      "Found 4750 images belonging to 107 classes.\n",
      "Found 1241 images belonging to 107 classes.\n"
     ]
    }
   ],
   "source": [
    "from  tensorflow.keras.preprocessing.image import ImageDataGenerator\n",
    "train_data_gen = ImageDataGenerator(\n",
    "    rescale = 1.0/255,\n",
    "    rotation_range = 40,\n",
    "    width_shift_range = 0.2,\n",
    "    height_shift_range = 0.2,\n",
    "    shear_range = 0.2,\n",
    "    horizontal_flip = True,\n",
    "    fill_mode = 'nearest'\n",
    ")\n",
    "train_data = train_data_gen.flow_from_directory(\n",
    "    train_dir,\n",
    "    target_size=(150,150),\n",
    "    class_mode='categorical',\n",
    "    batch_size=20\n",
    ")\n",
    "\n",
    "\n",
    "test_data_gen = ImageDataGenerator(\n",
    "    rescale = 1.0/255\n",
    ")\n",
    "\n",
    "test_data = test_data_gen.flow_from_directory(\n",
    "    test_dir,\n",
    "    target_size=(150,150),\n",
    "    class_mode='categorical',\n",
    "    batch_size=5\n",
    ")"
   ]
  },
  {
   "cell_type": "code",
   "execution_count": 9,
   "id": "a373612d-34ad-4602-9433-398dd7c342e8",
   "metadata": {},
   "outputs": [],
   "source": [
    "model = tf.keras.models.Sequential([\n",
    "    # Note the input shape is the desired size of the image 150x150 with 3 bytes color\n",
    "    # This is the first convolution\n",
    "    tf.keras.layers.Conv2D(32, (3,3), activation='relu', input_shape=(150, 150, 3)),\n",
    "    tf.keras.layers.MaxPooling2D(2, 2),\n",
    "    # The second convolution\n",
    "    tf.keras.layers.Conv2D(64, (3,3), activation='relu'),\n",
    "    tf.keras.layers.MaxPooling2D(2,2),\n",
    "    # The third convolution\n",
    "    tf.keras.layers.Conv2D(128, (3,3), activation='relu'),\n",
    "    tf.keras.layers.MaxPooling2D(2,2),\n",
    "    # The fourth convolution\n",
    "    tf.keras.layers.Conv2D(256, (3,3), activation='relu'),\n",
    "    tf.keras.layers.MaxPooling2D(2,2),\n",
    "    # The fourth convolution\n",
    "    tf.keras.layers.Conv2D(256, (3,3), activation='relu'),\n",
    "    tf.keras.layers.MaxPooling2D(2,2),\n",
    "    # Flatten the results to feed into a DNN\n",
    "    tf.keras.layers.Flatten(),\n",
    "    tf.keras.layers.Dropout(0.5),\n",
    "    # 512 neuron hidden layer\n",
    "    tf.keras.layers.Dense(512, activation='relu'),\n",
    "    tf.keras.layers.Dense(107, activation='softmax')\n",
    "])"
   ]
  },
  {
   "cell_type": "code",
   "execution_count": 5,
   "id": "8d8174b0-fa2d-4202-bb89-dc14cee464ad",
   "metadata": {},
   "outputs": [
    {
     "name": "stdout",
     "output_type": "stream",
     "text": [
      "Model: \"sequential\"\n",
      "_________________________________________________________________\n",
      "Layer (type)                 Output Shape              Param #   \n",
      "=================================================================\n",
      "conv2d (Conv2D)              (None, 148, 148, 32)      896       \n",
      "_________________________________________________________________\n",
      "max_pooling2d (MaxPooling2D) (None, 74, 74, 32)        0         \n",
      "_________________________________________________________________\n",
      "conv2d_1 (Conv2D)            (None, 72, 72, 64)        18496     \n",
      "_________________________________________________________________\n",
      "max_pooling2d_1 (MaxPooling2 (None, 36, 36, 64)        0         \n",
      "_________________________________________________________________\n",
      "conv2d_2 (Conv2D)            (None, 34, 34, 128)       73856     \n",
      "_________________________________________________________________\n",
      "max_pooling2d_2 (MaxPooling2 (None, 17, 17, 128)       0         \n",
      "_________________________________________________________________\n",
      "conv2d_3 (Conv2D)            (None, 15, 15, 128)       147584    \n",
      "_________________________________________________________________\n",
      "max_pooling2d_3 (MaxPooling2 (None, 7, 7, 128)         0         \n",
      "_________________________________________________________________\n",
      "flatten (Flatten)            (None, 6272)              0         \n",
      "_________________________________________________________________\n",
      "dropout (Dropout)            (None, 6272)              0         \n",
      "_________________________________________________________________\n",
      "dense (Dense)                (None, 256)               1605888   \n",
      "_________________________________________________________________\n",
      "dense_1 (Dense)              (None, 107)               27499     \n",
      "=================================================================\n",
      "Total params: 1,874,219\n",
      "Trainable params: 1,874,219\n",
      "Non-trainable params: 0\n",
      "_________________________________________________________________\n"
     ]
    }
   ],
   "source": [
    "model.summary()"
   ]
  },
  {
   "cell_type": "code",
   "execution_count": 10,
   "id": "c59e7d58-8e57-4e45-9016-b27e9ef63d06",
   "metadata": {},
   "outputs": [],
   "source": [
    "model.compile(loss = 'categorical_crossentropy', optimizer='rmsprop', metrics=['accuracy'])"
   ]
  },
  {
   "cell_type": "code",
   "execution_count": null,
   "id": "b6a4fbfe-0229-4a95-bb61-3511d899477e",
   "metadata": {},
   "outputs": [
    {
     "name": "stderr",
     "output_type": "stream",
     "text": [
      "2021-10-22 19:20:15.969180: I tensorflow/compiler/mlir/mlir_graph_optimization_pass.cc:185] None of the MLIR Optimization Passes are enabled (registered 2)\n"
     ]
    },
    {
     "name": "stdout",
     "output_type": "stream",
     "text": [
      "Epoch 1/100\n",
      " 59/238 [======>.......................] - ETA: 1:35 - loss: 4.6838 - accuracy: 0.0102"
     ]
    },
    {
     "name": "stderr",
     "output_type": "stream",
     "text": [
      "/opt/conda/lib/python3.7/site-packages/PIL/Image.py:974: UserWarning: Palette images with Transparency expressed in bytes should be converted to RGBA images\n",
      "  \"Palette images with Transparency expressed in bytes should be \"\n"
     ]
    },
    {
     "name": "stdout",
     "output_type": "stream",
     "text": [
      "238/238 [==============================] - 144s 602ms/step - loss: 4.6720 - accuracy: 0.0116 - val_loss: 4.6482 - val_accuracy: 0.0145\n",
      "Epoch 2/100\n",
      "238/238 [==============================] - 143s 601ms/step - loss: 4.6602 - accuracy: 0.0137 - val_loss: 4.6418 - val_accuracy: 0.0145\n",
      "Epoch 3/100\n",
      "238/238 [==============================] - 144s 605ms/step - loss: 4.6406 - accuracy: 0.0206 - val_loss: 4.5496 - val_accuracy: 0.0314\n",
      "Epoch 4/100\n",
      "238/238 [==============================] - 143s 601ms/step - loss: 4.5667 - accuracy: 0.0229 - val_loss: 4.4441 - val_accuracy: 0.0427\n",
      "Epoch 5/100\n",
      "238/238 [==============================] - 143s 601ms/step - loss: 4.4886 - accuracy: 0.0305 - val_loss: 4.2649 - val_accuracy: 0.0580\n",
      "Epoch 6/100\n",
      "238/238 [==============================] - 143s 599ms/step - loss: 4.4204 - accuracy: 0.0400 - val_loss: 4.1325 - val_accuracy: 0.0612\n",
      "Epoch 7/100\n",
      "238/238 [==============================] - 141s 594ms/step - loss: 4.3422 - accuracy: 0.0360 - val_loss: 4.0685 - val_accuracy: 0.0854\n",
      "Epoch 8/100\n",
      "238/238 [==============================] - 143s 600ms/step - loss: 4.2954 - accuracy: 0.0505 - val_loss: 4.0286 - val_accuracy: 0.1023\n",
      "Epoch 9/100\n",
      "238/238 [==============================] - 143s 599ms/step - loss: 4.2122 - accuracy: 0.0672 - val_loss: 3.8851 - val_accuracy: 0.1185\n",
      "Epoch 10/100\n",
      "238/238 [==============================] - 143s 603ms/step - loss: 4.1297 - accuracy: 0.0726 - val_loss: 3.7562 - val_accuracy: 0.1104\n",
      "Epoch 11/100\n",
      "238/238 [==============================] - 143s 601ms/step - loss: 4.0849 - accuracy: 0.0743 - val_loss: 3.7801 - val_accuracy: 0.1289\n",
      "Epoch 12/100\n",
      "238/238 [==============================] - 142s 596ms/step - loss: 4.0583 - accuracy: 0.0773 - val_loss: 3.5711 - val_accuracy: 0.1483\n",
      "Epoch 13/100\n",
      "238/238 [==============================] - 142s 596ms/step - loss: 3.9793 - accuracy: 0.0880 - val_loss: 3.6059 - val_accuracy: 0.1370\n",
      "Epoch 14/100\n",
      "238/238 [==============================] - 143s 601ms/step - loss: 3.9514 - accuracy: 0.0851 - val_loss: 3.4599 - val_accuracy: 0.1587\n",
      "Epoch 15/100\n",
      "238/238 [==============================] - 143s 600ms/step - loss: 3.9246 - accuracy: 0.0964 - val_loss: 3.3920 - val_accuracy: 0.1571\n",
      "Epoch 16/100\n",
      "148/238 [=================>............] - ETA: 48s - loss: 3.9034 - accuracy: 0.0983"
     ]
    }
   ],
   "source": [
    "history = model.fit(train_data, epochs=100, validation_data = test_data, verbose = 1)\n",
    "model.save(\"YogaModel.h5\")"
   ]
  },
  {
   "cell_type": "code",
   "execution_count": null,
   "id": "589da047-34f5-43a4-8b39-b2f347dd4f1d",
   "metadata": {},
   "outputs": [],
   "source": [
    "!ls -ltr"
   ]
  },
  {
   "cell_type": "code",
   "execution_count": null,
   "id": "cc7e39b4-ed4c-4250-854c-14ffce44b355",
   "metadata": {},
   "outputs": [],
   "source": []
  }
 ],
 "metadata": {
  "environment": {
   "name": "tf2-gpu.2-6.m81",
   "type": "gcloud",
   "uri": "gcr.io/deeplearning-platform-release/tf2-gpu.2-6:m81"
  },
  "kernelspec": {
   "display_name": "Python 3",
   "language": "python",
   "name": "python3"
  },
  "language_info": {
   "codemirror_mode": {
    "name": "ipython",
    "version": 3
   },
   "file_extension": ".py",
   "mimetype": "text/x-python",
   "name": "python",
   "nbconvert_exporter": "python",
   "pygments_lexer": "ipython3",
   "version": "3.7.10"
  }
 },
 "nbformat": 4,
 "nbformat_minor": 5
}
