{
 "cells": [
  {
   "cell_type": "code",
   "execution_count": 1,
   "id": "768c1b81-134b-4c88-9080-d29e9918f8e7",
   "metadata": {},
   "outputs": [],
   "source": [
    "import tensorflow as tf\n",
    "import os\n",
    "import numpy as np\n"
   ]
  },
  {
   "cell_type": "code",
   "execution_count": 2,
   "id": "f4fc3969-01ab-4e8e-9137-74759db839d6",
   "metadata": {},
   "outputs": [],
   "source": [
    "home = os.environ['HOME']\n",
    "base_dir = os.path.join(home, 'YogaModel/dataset')\n",
    "train_dir = os.path.join(base_dir, 'training')\n",
    "test_dir = os.path.join(base_dir, 'testing')"
   ]
  },
  {
   "cell_type": "code",
   "execution_count": 3,
   "id": "88d1217a-6384-4e32-bb20-74a7131baa66",
   "metadata": {},
   "outputs": [
    {
     "name": "stdout",
     "output_type": "stream",
     "text": [
      "Found 4750 images belonging to 107 classes.\n",
      "Found 1241 images belonging to 107 classes.\n"
     ]
    }
   ],
   "source": [
    "from  tensorflow.keras.preprocessing.image import ImageDataGenerator\n",
    "train_data_gen = ImageDataGenerator(\n",
    "    rescale = 1.0/255,\n",
    "    rotation_range = 40,\n",
    "    width_shift_range = 0.2,\n",
    "    height_shift_range = 0.2,\n",
    "    shear_range = 0.2,\n",
    "    horizontal_flip = True,\n",
    "    fill_mode = 'nearest'\n",
    ")\n",
    "train_data = train_data_gen.flow_from_directory(\n",
    "    train_dir,\n",
    "    target_size=(150,150),\n",
    "    class_mode='categorical',\n",
    "    batch_size=20\n",
    ")\n",
    "\n",
    "\n",
    "test_data_gen = ImageDataGenerator(\n",
    "    rescale = 1.0/255\n",
    ")\n",
    "\n",
    "test_data = test_data_gen.flow_from_directory(\n",
    "    test_dir,\n",
    "    target_size=(150,150),\n",
    "    class_mode='categorical',\n",
    "    batch_size=5\n",
    ")"
   ]
  },
  {
   "cell_type": "code",
   "execution_count": 4,
   "id": "a373612d-34ad-4602-9433-398dd7c342e8",
   "metadata": {},
   "outputs": [
    {
     "name": "stderr",
     "output_type": "stream",
     "text": [
      "2021-10-18 21:22:42.976898: I tensorflow/core/platform/cpu_feature_guard.cc:142] This TensorFlow binary is optimized with oneAPI Deep Neural Network Library (oneDNN) to use the following CPU instructions in performance-critical operations:  AVX512F\n",
      "To enable them in other operations, rebuild TensorFlow with the appropriate compiler flags.\n",
      "2021-10-18 21:22:42.982921: I tensorflow/core/common_runtime/process_util.cc:146] Creating new thread pool with default inter op setting: 2. Tune using inter_op_parallelism_threads for best performance.\n"
     ]
    }
   ],
   "source": [
    "model = tf.keras.models.Sequential([\n",
    "    # Note the input shape is the desired size of the image 150x150 with 3 bytes color\n",
    "    # This is the first convolution\n",
    "    tf.keras.layers.Conv2D(32, (3,3), activation='relu', input_shape=(150, 150, 3)),\n",
    "    tf.keras.layers.MaxPooling2D(2, 2),\n",
    "    # The second convolution\n",
    "    tf.keras.layers.Conv2D(64, (3,3), activation='relu'),\n",
    "    tf.keras.layers.MaxPooling2D(2,2),\n",
    "    # The third convolution\n",
    "    tf.keras.layers.Conv2D(128, (3,3), activation='relu'),\n",
    "    tf.keras.layers.MaxPooling2D(2,2),\n",
    "    # The fourth convolution\n",
    "    tf.keras.layers.Conv2D(128, (3,3), activation='relu'),\n",
    "    tf.keras.layers.MaxPooling2D(2,2),\n",
    "    # Flatten the results to feed into a DNN\n",
    "    tf.keras.layers.Flatten(),\n",
    "    tf.keras.layers.Dropout(0.5),\n",
    "    # 512 neuron hidden layer\n",
    "    tf.keras.layers.Dense(256, activation='relu'),\n",
    "    tf.keras.layers.Dense(107, activation='softmax')\n",
    "])"
   ]
  },
  {
   "cell_type": "code",
   "execution_count": 5,
   "id": "8d8174b0-fa2d-4202-bb89-dc14cee464ad",
   "metadata": {},
   "outputs": [
    {
     "name": "stdout",
     "output_type": "stream",
     "text": [
      "Model: \"sequential\"\n",
      "_________________________________________________________________\n",
      "Layer (type)                 Output Shape              Param #   \n",
      "=================================================================\n",
      "conv2d (Conv2D)              (None, 148, 148, 32)      896       \n",
      "_________________________________________________________________\n",
      "max_pooling2d (MaxPooling2D) (None, 74, 74, 32)        0         \n",
      "_________________________________________________________________\n",
      "conv2d_1 (Conv2D)            (None, 72, 72, 64)        18496     \n",
      "_________________________________________________________________\n",
      "max_pooling2d_1 (MaxPooling2 (None, 36, 36, 64)        0         \n",
      "_________________________________________________________________\n",
      "conv2d_2 (Conv2D)            (None, 34, 34, 128)       73856     \n",
      "_________________________________________________________________\n",
      "max_pooling2d_2 (MaxPooling2 (None, 17, 17, 128)       0         \n",
      "_________________________________________________________________\n",
      "conv2d_3 (Conv2D)            (None, 15, 15, 128)       147584    \n",
      "_________________________________________________________________\n",
      "max_pooling2d_3 (MaxPooling2 (None, 7, 7, 128)         0         \n",
      "_________________________________________________________________\n",
      "flatten (Flatten)            (None, 6272)              0         \n",
      "_________________________________________________________________\n",
      "dropout (Dropout)            (None, 6272)              0         \n",
      "_________________________________________________________________\n",
      "dense (Dense)                (None, 256)               1605888   \n",
      "_________________________________________________________________\n",
      "dense_1 (Dense)              (None, 107)               27499     \n",
      "=================================================================\n",
      "Total params: 1,874,219\n",
      "Trainable params: 1,874,219\n",
      "Non-trainable params: 0\n",
      "_________________________________________________________________\n"
     ]
    }
   ],
   "source": [
    "model.summary()"
   ]
  },
  {
   "cell_type": "code",
   "execution_count": 6,
   "id": "c59e7d58-8e57-4e45-9016-b27e9ef63d06",
   "metadata": {},
   "outputs": [],
   "source": [
    "model.compile(loss = 'categorical_crossentropy', optimizer='rmsprop', metrics=['accuracy'])"
   ]
  },
  {
   "cell_type": "code",
   "execution_count": null,
   "id": "b6a4fbfe-0229-4a95-bb61-3511d899477e",
   "metadata": {},
   "outputs": [
    {
     "name": "stderr",
     "output_type": "stream",
     "text": [
      "2021-10-18 21:23:00.178310: I tensorflow/compiler/mlir/mlir_graph_optimization_pass.cc:185] None of the MLIR Optimization Passes are enabled (registered 2)\n"
     ]
    },
    {
     "name": "stdout",
     "output_type": "stream",
     "text": [
      "Epoch 1/100\n",
      " 95/238 [==========>...................] - ETA: 1:11 - loss: 4.6821 - accuracy: 0.0095"
     ]
    },
    {
     "name": "stderr",
     "output_type": "stream",
     "text": [
      "/opt/conda/lib/python3.7/site-packages/PIL/Image.py:974: UserWarning: Palette images with Transparency expressed in bytes should be converted to RGBA images\n",
      "  \"Palette images with Transparency expressed in bytes should be \"\n"
     ]
    },
    {
     "name": "stdout",
     "output_type": "stream",
     "text": [
      "238/238 [==============================] - 137s 573ms/step - loss: 4.6747 - accuracy: 0.0095 - val_loss: 4.6435 - val_accuracy: 0.0137\n",
      "Epoch 2/100\n",
      "238/238 [==============================] - 134s 564ms/step - loss: 4.6326 - accuracy: 0.0187 - val_loss: 4.5049 - val_accuracy: 0.0266\n",
      "Epoch 3/100\n",
      "238/238 [==============================] - 134s 561ms/step - loss: 4.4960 - accuracy: 0.0345 - val_loss: 4.2472 - val_accuracy: 0.0661\n",
      "Epoch 4/100\n",
      "238/238 [==============================] - 131s 552ms/step - loss: 4.3412 - accuracy: 0.0425 - val_loss: 3.9609 - val_accuracy: 0.1185\n",
      "Epoch 5/100\n",
      "238/238 [==============================] - 133s 557ms/step - loss: 4.1801 - accuracy: 0.0665 - val_loss: 3.6341 - val_accuracy: 0.1604\n",
      "Epoch 6/100\n",
      "238/238 [==============================] - 135s 567ms/step - loss: 4.0325 - accuracy: 0.0872 - val_loss: 3.4964 - val_accuracy: 0.1612\n",
      "Epoch 7/100\n",
      "208/238 [=========================>....] - ETA: 15s - loss: 3.9426 - accuracy: 0.0959Epoch 10/100\n",
      "238/238 [==============================] - 134s 562ms/step - loss: 3.6981 - accuracy: 0.1335 - val_loss: 3.1828 - val_accuracy: 0.2047\n",
      "Epoch 11/100\n",
      "238/238 [==============================] - 136s 569ms/step - loss: 3.6303 - accuracy: 0.1423 - val_loss: 2.9966 - val_accuracy: 0.2450\n",
      "Epoch 12/100\n",
      "238/238 [==============================] - 134s 562ms/step - loss: 3.5985 - accuracy: 0.1440 - val_loss: 3.0582 - val_accuracy: 0.2425\n",
      "Epoch 13/100\n",
      "238/238 [==============================] - 135s 566ms/step - loss: 3.5524 - accuracy: 0.1505 - val_loss: 2.9548 - val_accuracy: 0.2643\n",
      "Epoch 14/100\n",
      "238/238 [==============================] - 135s 566ms/step - loss: 3.4718 - accuracy: 0.1680 - val_loss: 3.2805 - val_accuracy: 0.1853\n",
      "Epoch 15/100\n",
      "238/238 [==============================] - 131s 552ms/step - loss: 3.4441 - accuracy: 0.1686 - val_loss: 2.8142 - val_accuracy: 0.2990\n",
      "Epoch 16/100\n",
      "238/238 [==============================] - 131s 552ms/step - loss: 3.4191 - accuracy: 0.1834 - val_loss: 2.9926 - val_accuracy: 0.2627\n",
      "Epoch 17/100\n",
      "238/238 [==============================] - 134s 563ms/step - loss: 3.4129 - accuracy: 0.1747 - val_loss: 2.7815 - val_accuracy: 0.3046\n",
      "Epoch 18/100\n",
      "238/238 [==============================] - 134s 562ms/step - loss: 3.3689 - accuracy: 0.1878 - val_loss: 2.7198 - val_accuracy: 0.3231\n",
      "Epoch 19/100\n",
      "238/238 [==============================] - 133s 560ms/step - loss: 3.3852 - accuracy: 0.1832 - val_loss: 2.6208 - val_accuracy: 0.3280\n",
      "Epoch 20/100\n",
      "238/238 [==============================] - 132s 555ms/step - loss: 3.3186 - accuracy: 0.1979 - val_loss: 2.6378 - val_accuracy: 0.3272\n",
      "Epoch 21/100\n",
      "238/238 [==============================] - 134s 562ms/step - loss: 3.2878 - accuracy: 0.1989 - val_loss: 2.5911 - val_accuracy: 0.3360\n",
      "Epoch 22/100\n",
      "238/238 [==============================] - 133s 558ms/step - loss: 3.2581 - accuracy: 0.2044 - val_loss: 2.5642 - val_accuracy: 0.3610\n",
      "Epoch 23/100\n",
      "238/238 [==============================] - 134s 564ms/step - loss: 3.2346 - accuracy: 0.2027 - val_loss: 2.6932 - val_accuracy: 0.3400\n",
      "Epoch 24/100\n",
      "238/238 [==============================] - 133s 558ms/step - loss: 3.2394 - accuracy: 0.1998 - val_loss: 2.6511 - val_accuracy: 0.3296\n",
      "Epoch 25/100\n",
      "238/238 [==============================] - 132s 554ms/step - loss: 3.0956 - accuracy: 0.2461 - val_loss: 2.6233 - val_accuracy: 0.3433\n",
      "Epoch 40/100\n",
      "238/238 [==============================] - 133s 557ms/step - loss: 3.0923 - accuracy: 0.2469 - val_loss: 2.4462 - val_accuracy: 0.3876\n",
      "Epoch 41/100\n",
      "238/238 [==============================] - 133s 560ms/step - loss: 3.0831 - accuracy: 0.2455 - val_loss: 2.6851 - val_accuracy: 0.3409\n",
      "Epoch 42/100\n",
      "238/238 [==============================] - 131s 552ms/step - loss: 3.0825 - accuracy: 0.2396 - val_loss: 2.6624 - val_accuracy: 0.3199\n",
      "Epoch 43/100\n",
      "238/238 [==============================] - 132s 556ms/step - loss: 3.0695 - accuracy: 0.2476 - val_loss: 2.4613 - val_accuracy: 0.3795\n",
      "Epoch 44/100\n",
      "238/238 [==============================] - 134s 563ms/step - loss: 3.0500 - accuracy: 0.2545 - val_loss: 2.5270 - val_accuracy: 0.3691\n",
      "Epoch 45/100\n",
      "238/238 [==============================] - 132s 556ms/step - loss: 3.0531 - accuracy: 0.2516 - val_loss: 2.3717 - val_accuracy: 0.3965\n",
      "Epoch 46/100\n",
      "238/238 [==============================] - 134s 565ms/step - loss: 3.0681 - accuracy: 0.2493 - val_loss: 2.3935 - val_accuracy: 0.3948\n",
      "Epoch 47/100\n",
      "238/238 [==============================] - 132s 554ms/step - loss: 3.0567 - accuracy: 0.2413 - val_loss: 2.4310 - val_accuracy: 0.3868\n",
      "Epoch 48/100\n",
      "238/238 [==============================] - 133s 557ms/step - loss: 3.0644 - accuracy: 0.2526 - val_loss: 2.3632 - val_accuracy: 0.4077\n",
      "Epoch 49/100\n",
      "238/238 [==============================] - 132s 555ms/step - loss: 3.0634 - accuracy: 0.2469 - val_loss: 2.7565 - val_accuracy: 0.3425\n",
      "Epoch 50/100\n",
      "238/238 [==============================] - 133s 558ms/step - loss: 3.0907 - accuracy: 0.2417 - val_loss: 2.3449 - val_accuracy: 0.3997\n",
      "Epoch 51/100\n",
      "238/238 [==============================] - 132s 554ms/step - loss: 3.0772 - accuracy: 0.2484 - val_loss: 2.5398 - val_accuracy: 0.3594\n",
      "Epoch 52/100\n",
      "238/238 [==============================] - 133s 558ms/step - loss: 3.0965 - accuracy: 0.2514 - val_loss: 2.7799 - val_accuracy: 0.3231\n",
      "Epoch 53/100\n",
      "238/238 [==============================] - 133s 558ms/step - loss: 3.0847 - accuracy: 0.2503 - val_loss: 2.5361 - val_accuracy: 0.3658\n",
      "Epoch 54/100\n",
      "238/238 [==============================] - 131s 552ms/step - loss: 3.0684 - accuracy: 0.2520 - val_loss: 2.3809 - val_accuracy: 0.4126\n",
      "Epoch 55/100\n",
      "238/238 [==============================] - 132s 555ms/step - loss: 3.1009 - accuracy: 0.2474 - val_loss: 2.4649 - val_accuracy: 0.3900\n",
      "Epoch 56/100\n",
      "238/238 [==============================] - 132s 555ms/step - loss: 3.0978 - accuracy: 0.2455 - val_loss: 2.5502 - val_accuracy: 0.3441\n",
      "Epoch 57/100\n",
      "238/238 [==============================] - 132s 554ms/step - loss: 3.0925 - accuracy: 0.2463 - val_loss: 2.5311 - val_accuracy: 0.3537\n",
      "Epoch 58/100\n",
      "238/238 [==============================] - 133s 558ms/step - loss: 3.0721 - accuracy: 0.2531 - val_loss: 2.5929 - val_accuracy: 0.3586\n",
      "Epoch 59/100\n",
      "238/238 [==============================] - 133s 560ms/step - loss: 3.0830 - accuracy: 0.2429 - val_loss: 2.5487 - val_accuracy: 0.3521\n",
      "Epoch 60/100\n",
      " 30/238 [==>...........................] - ETA: 1:41 - loss: 3.1946 - accuracy: 0.2288"
     ]
    }
   ],
   "source": [
    "history = model.fit(train_data, epochs=100, validation_data = test_data, verbose = 1)\n",
    "model.save(\"YogaModel.h5\")"
   ]
  },
  {
   "cell_type": "code",
   "execution_count": null,
   "id": "589da047-34f5-43a4-8b39-b2f347dd4f1d",
   "metadata": {},
   "outputs": [],
   "source": [
    "!ls -ltr"
   ]
  },
  {
   "cell_type": "code",
   "execution_count": null,
   "id": "cc7e39b4-ed4c-4250-854c-14ffce44b355",
   "metadata": {},
   "outputs": [],
   "source": []
  }
 ],
 "metadata": {
  "environment": {
   "name": "tf2-gpu.2-6.m81",
   "type": "gcloud",
   "uri": "gcr.io/deeplearning-platform-release/tf2-gpu.2-6:m81"
  },
  "kernelspec": {
   "display_name": "Python 3",
   "language": "python",
   "name": "python3"
  },
  "language_info": {
   "codemirror_mode": {
    "name": "ipython",
    "version": 3
   },
   "file_extension": ".py",
   "mimetype": "text/x-python",
   "name": "python",
   "nbconvert_exporter": "python",
   "pygments_lexer": "ipython3",
   "version": "3.7.10"
  }
 },
 "nbformat": 4,
 "nbformat_minor": 5
}
