{
 "cells": [
  {
   "cell_type": "code",
   "execution_count": 1,
   "id": "9d749357-25a9-4608-8792-29e4bb2a9ce9",
   "metadata": {},
   "outputs": [],
   "source": [
    "import os\n",
    "from shutil import copyfile"
   ]
  },
  {
   "cell_type": "code",
   "execution_count": 6,
   "id": "2a2412c8-92bf-4e53-a030-9f13af815410",
   "metadata": {},
   "outputs": [],
   "source": [
    "base_dir = os.path.join('/home/jupyter/YogaModel/', 'dataset/train')"
   ]
  },
  {
   "cell_type": "code",
   "execution_count": 7,
   "id": "9c2bfa8c-60e2-4dee-82a4-5885ef48edd4",
   "metadata": {},
   "outputs": [],
   "source": [
    "labels = os.listdir(base_dir)\n",
    "train_dir = '/home/jupyter/YogaModel/dataset/training'\n",
    "test_dir = '/home/jupyter/YogaModel/dataset/testing'"
   ]
  },
  {
   "cell_type": "code",
   "execution_count": 8,
   "id": "039380d2-ee4c-475e-bc74-5d63737a19f5",
   "metadata": {},
   "outputs": [],
   "source": [
    "for label in labels:\n",
    "     label_dir = os.path.join(base_dir, label)\n",
    "     train_label_dir = os.path.join(train_dir, label)\n",
    "     test_label_dir = os.path.join(test_dir, label)\n",
    "     label_images = os.listdir(label_dir)\n",
    "     label_size = len(label_images)\n",
    "     train_size = int(label_size * 0.8)\n",
    "     train_images = label_images[:train_size]\n",
    "     test_images = label_images[train_size:]\n",
    "     for name in train_images:\n",
    "             copyfile(os.path.join(label_dir,name), os.path.join(train_label_dir,name))\n",
    "                \n",
    "     for name in test_images:\n",
    "             copyfile(os.path.join(label_dir,name), os.path.join(test_label_dir,name))"
   ]
  },
  {
   "cell_type": "code",
   "execution_count": 9,
   "id": "024c5ed8-f8cc-42be-85e8-a9a4ec698854",
   "metadata": {},
   "outputs": [
    {
     "name": "stdout",
     "output_type": "stream",
     "text": [
      "total 12\n",
      "-rw-r--r-- 1 jupyter jupyter 2450 Oct 17 22:12 train_test_split.ipynb\n",
      "-rw-r--r-- 1 jupyter jupyter 8009 Oct 18 01:51 Yogamodel.ipynb\n"
     ]
    }
   ],
   "source": [
    "ls -ltr"
   ]
  },
  {
   "cell_type": "code",
   "execution_count": null,
   "id": "de4d08bd-f96c-4e53-b5ec-42123c636cba",
   "metadata": {},
   "outputs": [],
   "source": []
  }
 ],
 "metadata": {
  "environment": {
   "name": "tf2-gpu.2-6.m81",
   "type": "gcloud",
   "uri": "gcr.io/deeplearning-platform-release/tf2-gpu.2-6:m81"
  },
  "kernelspec": {
   "display_name": "Python 3",
   "language": "python",
   "name": "python3"
  },
  "language_info": {
   "codemirror_mode": {
    "name": "ipython",
    "version": 3
   },
   "file_extension": ".py",
   "mimetype": "text/x-python",
   "name": "python",
   "nbconvert_exporter": "python",
   "pygments_lexer": "ipython3",
   "version": "3.7.10"
  }
 },
 "nbformat": 4,
 "nbformat_minor": 5
}
